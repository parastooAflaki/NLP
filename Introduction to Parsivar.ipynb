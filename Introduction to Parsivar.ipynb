{
 "cells": [
  {
   "cell_type": "code",
   "execution_count": 1,
   "metadata": {},
   "outputs": [],
   "source": [
    "import nltk\n",
    "from parsivar import SpellCheck , Normalizer , Tokenizer , POSTagger , FindChunks , DependencyParser"
   ]
  },
  {
   "cell_type": "code",
   "execution_count": 2,
   "metadata": {},
   "outputs": [],
   "source": [
    "import os\n",
    "java_path = \"C:\\Program Files\\Java\\jdk-12.0.1\\\\bin\\java.exe\"\n",
    "os.environ['JAVAHOME'] = java_path"
   ]
  },
  {
   "cell_type": "code",
   "execution_count": 3,
   "metadata": {},
   "outputs": [],
   "source": [
    "myspell_checker = SpellCheck()\n",
    "my_tokenizer = Tokenizer()\n",
    "my_tagger = POSTagger(tagging_model=\"wapiti\")\n",
    "my_chunker = FindChunks()\n",
    "myparser = DependencyParser()"
   ]
  },
  {
   "cell_type": "code",
   "execution_count": 4,
   "metadata": {},
   "outputs": [],
   "source": [
    "pinglish_normalizer  = Normalizer(\n",
    "half_space_char='\\u200c',\n",
    "pinglish_conversion_needed=True)\n"
   ]
  },
  {
   "cell_type": "code",
   "execution_count": 5,
   "metadata": {},
   "outputs": [],
   "source": [
    "space_normalizer  = Normalizer(\n",
    "half_space_char='\\u200c',\n",
    "statistical_space_correction=True)"
   ]
  },
  {
   "cell_type": "code",
   "execution_count": 6,
   "metadata": {},
   "outputs": [],
   "source": [
    "persian_txt = \"به گذارش ایسنا، در دانشگاه تهران مسابقه برنامه نویسی برگزار خواهد شد. این مسابقه تا 12 شهریور ادامه خواهد داشت.\"\n",
    "pinglish_txt = \"salaam. in mosabeghe jazzab ast\"\n",
    "full_txt = persian_txt + pinglish_txt"
   ]
  },
  {
   "cell_type": "code",
   "execution_count": 7,
   "metadata": {},
   "outputs": [
    {
     "name": "stdout",
     "output_type": "stream",
     "text": [
      "به گذارش ایسنا، در دانشگاه تهران مسابقه برنامه نویسی برگزار خواهد شد. این مسابقه تا 12 شهریور ادامه خواهد داشت.\n",
      "-----------------------------------\n",
      "salaam. in mosabeghe jazzab ast\n",
      "-----------------------------------\n",
      "به گذارش ایسنا، در دانشگاه تهران مسابقه برنامه نویسی برگزار خواهد شد. این مسابقه تا 12 شهریور ادامه خواهد داشت.salaam. in mosabeghe jazzab ast\n"
     ]
    }
   ],
   "source": [
    "print(persian_txt)\n",
    "print(\"-----------------------------------\")\n",
    "print(pinglish_txt)\n",
    "print(\"-----------------------------------\")\n",
    "print(full_txt)"
   ]
  },
  {
   "cell_type": "code",
   "execution_count": 9,
   "metadata": {},
   "outputs": [
    {
     "data": {
      "text/plain": [
       "'به گذارش ایسنا ، در دانشگاه تهران مسابقه برنامه نویسی برگزار خواهد شد . این مسابقه تا 12 شهریور ادامه خواهد داشت . سلام . این مسابقه جذاب است'"
      ]
     },
     "execution_count": 9,
     "metadata": {},
     "output_type": "execute_result"
    }
   ],
   "source": [
    "full_txt = pinglish_normalizer.normalize(full_txt)\n",
    "full_txt"
   ]
  },
  {
   "cell_type": "code",
   "execution_count": 10,
   "metadata": {},
   "outputs": [
    {
     "data": {
      "text/plain": [
       "'به گزارش ایسنا ، در دانشگاه تهران مسابقه برنامه نویسی برگزار خواهد شد . این مسابقه تا 12 شهریور ادامه خواهد داشت . سلام . این مسابقه جذاب است'"
      ]
     },
     "execution_count": 10,
     "metadata": {},
     "output_type": "execute_result"
    }
   ],
   "source": [
    "full_txt = myspell_checker.spell_corrector(full_txt)\n",
    "full_txt"
   ]
  },
  {
   "cell_type": "code",
   "execution_count": 11,
   "metadata": {},
   "outputs": [
    {
     "data": {
      "text/plain": [
       "'به گزارش ایسنا ، در دانشگاه تهران مسابقه برنامه\\u200cنویسی برگزار خواهد شد . این مسابقه تا 12 شهریور ادامه خواهد داشت . \\u200cسلام . این مسابقه جذاب است'"
      ]
     },
     "execution_count": 11,
     "metadata": {},
     "output_type": "execute_result"
    }
   ],
   "source": [
    "full_txt = space_normalizer.normalize(full_txt)\n",
    "full_txt"
   ]
  },
  {
   "cell_type": "code",
   "execution_count": 14,
   "metadata": {},
   "outputs": [
    {
     "name": "stdout",
     "output_type": "stream",
     "text": [
      "به گزارش ایسنا ، در دانشگاه تهران مسابقه برنامه‌نویسی برگزار خواهد شد  .\n",
      " این مسابقه تا 12 شهریور ادامه خواهد داشت  .\n",
      " ‌سلام  .\n",
      " این مسابقه جذاب است\n"
     ]
    }
   ],
   "source": [
    "sents = my_tokenizer.tokenize_sentences(full_txt)\n",
    "print_sents(sents)"
   ]
  },
  {
   "cell_type": "code",
   "execution_count": 15,
   "metadata": {},
   "outputs": [
    {
     "name": "stdout",
     "output_type": "stream",
     "text": [
      "به [گزارش ایسنا NP] ، در [دانشگاه تهران مسابقه برنامه‌نویسی برگزار NP] [خواهد شد VP] .\n",
      "[این مسابقه DNP] تا [12 شهریور ادامه NP] [خواهد داشت VP] .\n",
      "[سلام NP] .\n",
      "[این مسابقه جذاب DNP] [است VP]\n"
     ]
    }
   ],
   "source": [
    "for sent in sents:\n",
    "    tagged_txt =my_tagger.parse(my_tokenizer.tokenize_words(sent));\n",
    "    chunks = my_chunker.chunk_sentence(tagged_txt)\n",
    "    print(my_chunker.convert_nestedtree2rawstring(chunks))\n"
   ]
  },
  {
   "cell_type": "code",
   "execution_count": 16,
   "metadata": {},
   "outputs": [
    {
     "name": "stdout",
     "output_type": "stream",
     "text": [
      "(شد\n",
      "  (ایسنا به گزارش ،)\n",
      "  (در (دانشگاه تهران))\n",
      "  مسابقه\n",
      "  برنامه‌نویسی\n",
      "  برگزار\n",
      "  خواهد\n",
      "  .)\n",
      "(داشت (مسابقه این) (تا (12 شهریور)) ادامه خواهد .)\n",
      "(سلام .)\n",
      "(است (مسابقه این) جذاب)\n"
     ]
    }
   ],
   "source": [
    "parsed_sents = myparser.parse_sents(sents)\n",
    "for sent in parsed_sents:\n",
    "    print(sent.tree())"
   ]
  },
  {
   "cell_type": "code",
   "execution_count": 17,
   "metadata": {},
   "outputs": [],
   "source": [
    "def print_sents(sents):\n",
    "    for sent in sents:\n",
    "        print(sent)"
   ]
  },
  {
   "cell_type": "code",
   "execution_count": null,
   "metadata": {},
   "outputs": [],
   "source": []
  }
 ],
 "metadata": {
  "kernelspec": {
   "display_name": "Python 3",
   "language": "python",
   "name": "python3"
  },
  "language_info": {
   "codemirror_mode": {
    "name": "ipython",
    "version": 3
   },
   "file_extension": ".py",
   "mimetype": "text/x-python",
   "name": "python",
   "nbconvert_exporter": "python",
   "pygments_lexer": "ipython3",
   "version": "3.8.5"
  }
 },
 "nbformat": 4,
 "nbformat_minor": 4
}
